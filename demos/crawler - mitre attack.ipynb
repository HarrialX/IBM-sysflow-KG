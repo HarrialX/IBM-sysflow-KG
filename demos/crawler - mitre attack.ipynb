{
 "cells": [
  {
   "cell_type": "markdown",
   "metadata": {},
   "source": [
    "### Technique"
   ]
  },
  {
   "cell_type": "code",
   "execution_count": 1,
   "metadata": {},
   "outputs": [
    {
     "name": "stderr",
     "output_type": "stream",
     "text": [
      "100%|██████████| 576/576 [04:51<00:00,  1.98it/s]"
     ]
    },
    {
     "name": "stdout",
     "output_type": "stream",
     "text": [
      "Done\n"
     ]
    },
    {
     "name": "stderr",
     "output_type": "stream",
     "text": [
      "\n"
     ]
    }
   ],
   "source": [
    "# crawl MITRE ATT&CK\n",
    "#  - crawl Technique texts\n",
    "#  - crawl mitigation code and link\n",
    "\n",
    "import os\n",
    "import json\n",
    "import requests\n",
    "from tqdm import tqdm\n",
    "from bs4 import BeautifulSoup\n",
    "from collections import defaultdict\n",
    "from urllib.request import Request, urlopen\n",
    "\n",
    "tech_dict = defaultdict(dict)\n",
    "'''\n",
    "{\n",
    "    'code' : {\n",
    "        'name': str,\n",
    "        'link': str,\n",
    "        'desc': str,\n",
    "        'platforms', [str],\n",
    "        'miti': [str],\n",
    "        'miti_link': [str],\n",
    "    }\n",
    "}\n",
    "'''\n",
    "\n",
    "save_dir = '/home/zxx5113/IBM/save/mitre-attack'\n",
    "os.makedirs(save_dir, exist_ok=True)\n",
    "\n",
    "# NOTE: we only consider enterprise tech\n",
    "root = 'https://attack.mitre.org/techniques/enterprise/'\n",
    "response = requests.get(root)\n",
    "html = BeautifulSoup(response.content, 'html.parser')\n",
    "\n",
    "link_prefix = 'https://attack.mitre.org'\n",
    "\n",
    "for tr in tqdm(html.find_all('tr', attrs={'class':'technique'})):\n",
    "    link = link_prefix + tr.find('a').get('href')\n",
    "    \n",
    "    if link.split('/')[-1].startswith('T'):\n",
    "        code = link.split('/')[-1]\n",
    "    else:\n",
    "        code = '.'.join(link.split('/')[-2:])\n",
    "    \n",
    "    tech_html = BeautifulSoup(requests.get(link).content, 'html.parser')\n",
    "    name = ' '.join(tech_html.find('h1').text.strip().replace('\\n', ' ').split()) \n",
    "    try:\n",
    "        desc = tech_html.find('div', attrs={'class':'description-body'}).text.strip()\n",
    "    except: \n",
    "        print(code, name, link)\n",
    "        desc = ''\n",
    "    \n",
    "    platforms = set()\n",
    "    for _block in tech_html.find_all('div', attrs={'class':'col-md-11 pl-0'}):\n",
    "        try:\n",
    "            if 'Platforms' in _block.text:\n",
    "                platforms |= set([s.strip() for s in ':'.join(_block.text.split(':')[1:]).strip().split(',')])\n",
    "                break\n",
    "        except:\n",
    "            pass\n",
    "    platforms = list(platforms)\n",
    "\n",
    "    miti_codes = []\n",
    "    miti_links = []\n",
    "    for a in tech_html.find_all('a'):\n",
    "        url = a.get('href')\n",
    "        if url is not None and 'mitigations' in url and url.split('/')[-1].startswith('M'):\n",
    "            m_code = url.split('/')[-1]\n",
    "            if m_code not in miti_codes:\n",
    "                miti_codes.append(m_code)\n",
    "                miti_links.append(link_prefix + url)\n",
    "#     print(code, name, link, miti_codes, miti_links)\n",
    "    \n",
    "    tech_dict[code] = {\n",
    "        'name': name,\n",
    "        'link': link,\n",
    "        'desc': desc,\n",
    "        'platforms': platforms,\n",
    "        'miti': miti_codes,\n",
    "        'miti_link': miti_links,\n",
    "    }\n",
    "    \n",
    "with open(os.path.join(save_dir, 'techniques.json'), 'w') as f: \n",
    "    json.dump(tech_dict, f)\n",
    "print('Done')"
   ]
  },
  {
   "cell_type": "markdown",
   "metadata": {},
   "source": [
    "### Mitigation"
   ]
  },
  {
   "cell_type": "code",
   "execution_count": 2,
   "metadata": {},
   "outputs": [
    {
     "name": "stdout",
     "output_type": "stream",
     "text": [
      "Done\n"
     ]
    }
   ],
   "source": [
    "import os\n",
    "import json\n",
    "import requests\n",
    "from tqdm import tqdm\n",
    "from bs4 import BeautifulSoup\n",
    "from collections import defaultdict\n",
    "from urllib.request import Request, urlopen\n",
    "\n",
    "miti_dict = defaultdict(dict)\n",
    "'''\n",
    "{\n",
    "    'code' : {\n",
    "        'name': str,\n",
    "        'link': str,\n",
    "        'desc_brief': str,\n",
    "        'desc': str,s\n",
    "    }\n",
    "}\n",
    "'''\n",
    "save_dir = '/home/zxx5113/IBM/save/mitre-attack'\n",
    "os.makedirs(save_dir, exist_ok=True)\n",
    "\n",
    "# NOTE: we only consider enterprise tech\n",
    "root = 'https://attack.mitre.org/mitigations/enterprise/'\n",
    "response = requests.get(root)\n",
    "html = BeautifulSoup(response.content, 'html.parser')\n",
    "\n",
    "link_prefix = 'https://attack.mitre.org/mitigations/'\n",
    "\n",
    "miti_codes = []\n",
    "for a in html.find_all('a'):\n",
    "    if a.has_attr('href') and a.get('href').startswith('/mitigations/M'):\n",
    "        m_code = a.get('href').split('/')[-1]\n",
    "        if m_code.startswith('M') and m_code not in miti_codes:\n",
    "            miti_codes.append(m_code)\n",
    "\n",
    "for m_code in miti_codes:\n",
    "    m_link = os.path.join(link_prefix, m_code)\n",
    "    m_html = BeautifulSoup(requests.get(m_link).content, 'html.parser')\n",
    "    m_name = m_html.find('h1').text.strip()\n",
    "    m_desc_block = m_html.find('div', attrs={'class':'description-body'})\n",
    "    m_desc = m_desc_block.find('p').text.strip()\n",
    "    \n",
    "    miti_dict[m_code] = {\n",
    "        'name': m_name,\n",
    "        'link': m_link,\n",
    "        'desc': m_desc,\n",
    "    }\n",
    "with open(os.path.join(save_dir, 'mitigations.json'), 'w') as f: \n",
    "    json.dump(miti_dict, f)\n",
    "print('Done')"
   ]
  },
  {
   "cell_type": "code",
   "execution_count": null,
   "metadata": {},
   "outputs": [],
   "source": []
  }
 ],
 "metadata": {
  "kernelspec": {
   "display_name": "py39",
   "language": "python",
   "name": "py39"
  },
  "language_info": {
   "codemirror_mode": {
    "name": "ipython",
    "version": 3
   },
   "file_extension": ".py",
   "mimetype": "text/x-python",
   "name": "python",
   "nbconvert_exporter": "python",
   "pygments_lexer": "ipython3",
   "version": "3.9.7"
  }
 },
 "nbformat": 4,
 "nbformat_minor": 2
}
