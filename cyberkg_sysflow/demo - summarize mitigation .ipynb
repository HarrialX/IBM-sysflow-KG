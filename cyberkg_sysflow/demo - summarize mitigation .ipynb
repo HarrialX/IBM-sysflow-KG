{
 "cells": [
  {
   "cell_type": "code",
   "execution_count": 1,
   "metadata": {},
   "outputs": [
    {
     "name": "stderr",
     "output_type": "stream",
     "text": [
      "567it [00:23, 24.52it/s]\n",
      "166596it [01:05, 2536.91it/s]\n",
      "100%|████████████████████████████████████████████████████████████████████████████████████████████| 733/733 [00:00<00:00, 746400.78it/s]\n",
      "100%|████████████████████████████████████████████████████████████████████████████████████████| 166596/166596 [00:48<00:00, 3438.48it/s]\n",
      "100%|████████████████████████████████████████████████████████████████████████████████████████████████| 567/567 [01:27<00:00,  6.45it/s]\n"
     ]
    }
   ],
   "source": [
    "import os, sys\n",
    "sys.path.append(os.path.abspath('../..'))\n",
    "\n",
    "import data.cyberkg_IBM.pkg.sysflow as sf\n",
    "import data.cyberkg_IBM.pkg.cwe_miti as cm"
   ]
  },
  {
   "cell_type": "code",
   "execution_count": 2,
   "metadata": {},
   "outputs": [
    {
     "data": {
      "text/plain": [
       "'Firewall\\nUse an application firewall that can detect attacks against this weakness.\\nEnvironment Hardening\\nWhen using PHP, configure the application so that it does not use register_globals.\\nNo Strategy\\nVery carefully manage the setting, management, and handling of privileges.\\nNo Strategy\\nProtect log files against unauthorized read/write..'"
      ]
     },
     "execution_count": 2,
     "metadata": {},
     "output_type": "execute_result"
    }
   ],
   "source": [
    "tech = 'T1134' # MRR, HIT@K, pre/recall\n",
    "thre = 100\n",
    "n_cwe = 20\n",
    "thre_cves, thre_scores = sf.ttp_cve_link(n_cve = thre, tech = tech, multiview=False, verbose=False)\n",
    "cwe_sort, score_sort = sf.cwe_cve_link(thre_cves, thre_scores) # sorted\n",
    "# for i in range(len(cwe_sort)):\n",
    "#     print(cwe_sort[i], ' \\t', score_sort[i])\n",
    "    \n",
    "cwe_miti_curtech = []\n",
    "\n",
    "cwe_phase_st_dict = cm.sum_miti(save=True)\n",
    "for i in range(min(len(cwe_sort), n_cwe)):\n",
    "    cwe, phase = cwe_sort[i], 'Operation'\n",
    "    cwe = cwe.split(':')[-1]\n",
    "#     print('CWE - %s, Phase - %s' % (str(cwe), phase))\n",
    "\n",
    "    for st, txt_list in cwe_phase_st_dict[str(cwe)][phase].items():\n",
    "        idx = 0\n",
    "        for txt in txt_list:\n",
    "            first_s = txt.split('. ')[0] + '.'\n",
    "            if first_s.startswith(\"Effectiveness:\"):\n",
    "                continue\n",
    "            idx += 1\n",
    "#             print(st, '|', '(%d)' % idx, first_s)\n",
    "            if first_s not in cwe_miti_curtech:\n",
    "                cwe_miti_curtech.append(st)\n",
    "                cwe_miti_curtech.append(first_s)\n",
    "cwe_miti_curtech = '\\n'.join(cwe_miti_curtech)\n",
    "cwe_miti_curtech\n",
    "# cwe_miti_curtech.split('\\n')[1::2]"
   ]
  },
  {
   "cell_type": "markdown",
   "metadata": {},
   "source": [
    "### CWE - MITI - DEF"
   ]
  },
  {
   "cell_type": "code",
   "execution_count": 3,
   "metadata": {},
   "outputs": [
    {
     "name": "stdout",
     "output_type": "stream",
     "text": [
      "M1026 0.1777 Privileged Account Management\n",
      "M1018 0.1617 User Account Management\n",
      "M1029 0.1526 Remote Data Storage\n",
      "M1022 0.1376 Restrict File and Directory Permissions\n",
      "M1039 0.1276 Environment Variable Permissions\n",
      "M1013 0.1118 Application Developer Guidance\n",
      "M1025 0.1081 Privileged Process Integrity\n",
      "M1056 0.1018 Pre-compromise\n",
      "\n",
      "\n",
      "D3-LFP 0.2993 ['M1022', 'M1018'] Local File Permissions\n",
      "D3-MAC 0.2698 ['M1025', 'M1018'] Mandatory Access Control\n",
      "D3-DAM 0.1777 ['M1026'] Domain Account Monitoring\n",
      "D3-LAM 0.1777 ['M1026'] Local Account Monitoring\n",
      "D3-SPP 0.1777 ['M1026'] Strong Password Policy\n",
      "D3-SCP 0.1617 ['M1018'] System Configuration Permissions\n",
      "D3-ACH 0.1276 ['M1039'] Application Configuration Hardening\n",
      "D3-SFA 0.1276 ['M1039'] System File Analysis\n",
      "D3-BA 0.1081 ['M1025'] Bootloader Authentication\n",
      "D3-DLIC 0.1081 ['M1025'] Driver Load Integrity Checking\n",
      "D3-PSEP 0.1081 ['M1025'] Process Segment Execution Prevention\n",
      "D3-DE 0.1018 ['M1056'] Decoy Environment\n",
      "D3-DO 0.1018 ['M1056'] Decoy Object\n"
     ]
    }
   ],
   "source": [
    "import json\n",
    "import numpy as np\n",
    "from collections import defaultdict\n",
    "from data.cyberkg_IBM.pkg.sim_mitre import cwe_mitre_miti_cossim\n",
    "\n",
    "mitre_miti = json.load(open('/home/zxx5113/IBM/data/cyberkg_IBM/save/mitre-attack/mitigations.json', 'r'))\n",
    "\n",
    "miti_codes, miti_names, miti_descs = [], [], []\n",
    "for code, data in mitre_miti.items():\n",
    "    miti_codes.append(code)\n",
    "    miti_names.append(data['name'])\n",
    "    miti_descs.append(data['desc'])\n",
    "    \n",
    "MITI_SCORE_THRE = 0.1\n",
    "cossim = cwe_mitre_miti_cossim(cwe_miti_curtech, miti_descs)\n",
    "sort_idx = np.argsort(cossim)[::-1]\n",
    "for idx in sort_idx:\n",
    "    if cossim[idx] >= MITI_SCORE_THRE:\n",
    "        print(miti_codes[idx], cossim[idx], miti_names[idx])\n",
    "        \n",
    "        \n",
    "miti2def = json.load(open('/home/zxx5113/IBM/data/cyberkg_IBM/save/mitre-defend/miti2def.json', 'r'))\n",
    "mitre_def = json.load(open('/home/zxx5113/IBM/data/cyberkg_IBM/save/mitre-defend/defence.json', 'r'))\n",
    "def2score = defaultdict(float)\n",
    "def2miti = defaultdict(set)\n",
    "\n",
    "for idx in sort_idx:\n",
    "    if cossim[idx] >= MITI_SCORE_THRE:\n",
    "        miti_code = miti_codes[idx]\n",
    "        for def_code in miti2def[miti_code]:\n",
    "            def2score[def_code] += cossim[idx]\n",
    "            def2miti[def_code].add(miti_code)\n",
    "print('\\n')\n",
    "for def_code, def_score in sorted(def2score.items(), key=lambda item: item[1], reverse=True):\n",
    "    print(def_code, round(def_score, 4),  list(def2miti[def_code]), mitre_def[def_code]['name'])\n",
    "        "
   ]
  },
  {
   "cell_type": "markdown",
   "metadata": {},
   "source": [
    "### CWE - DEF"
   ]
  },
  {
   "cell_type": "code",
   "execution_count": 4,
   "metadata": {},
   "outputs": [
    {
     "name": "stdout",
     "output_type": "stream",
     "text": [
      "D3-FE 0.1968 File Encryption\n",
      "D3-ACH 0.1683 Application Configuration Hardening\n",
      "D3-EAL 0.1507 Executable Allowlisting\n",
      "D3-MENCR 0.1315 Message Encryption\n",
      "D3-AH 0.128 Application Hardening\n",
      "D3-SCF 0.1136 System Call Filtering\n",
      "D3-SFA 0.1032 System File Analysis\n"
     ]
    }
   ],
   "source": [
    "import json\n",
    "import numpy as np\n",
    "from collections import defaultdict\n",
    "from data.cyberkg_IBM.pkg.sim_mitre import cwe_mitre_def_cossim\n",
    "\n",
    "mitre_def = json.load(open('/home/zxx5113/IBM/data/cyberkg_IBM/save/mitre-defend/defence.json', 'r'))\n",
    "\n",
    "def_codes, def_names, def_descs = [], [], []\n",
    "for code, data in mitre_def.items():\n",
    "    def_codes.append(code)\n",
    "    def_names.append(data['name'])\n",
    "    def_descs.append(data['desc'])\n",
    "    \n",
    "MITI_SCORE_THRE = 0.1\n",
    "cossim = cwe_mitre_def_cossim(cwe_miti_curtech, def_descs)\n",
    "sort_idx = np.argsort(cossim)[::-1]\n",
    "for idx in sort_idx:\n",
    "    if cossim[idx] >= MITI_SCORE_THRE:\n",
    "        print(def_codes[idx], cossim[idx], def_names[idx])"
   ]
  },
  {
   "cell_type": "code",
   "execution_count": null,
   "metadata": {},
   "outputs": [],
   "source": [
    "# evaluating the precision & recall\n",
    "# step1: use TTP to link to the MITRE mitigation, then link to MITRE defence, use those info as ground-truth\n",
    "# step2: use two approaches (TTP-CWE-MITI-DEF and TTP-CWE-DEF) to get the top-K defence list\n",
    "# step3: calculate precision, recall (etc.) of top-K defence list in step2"
   ]
  }
 ],
 "metadata": {
  "kernelspec": {
   "display_name": "py39",
   "language": "python",
   "name": "py39"
  },
  "language_info": {
   "codemirror_mode": {
    "name": "ipython",
    "version": 3
   },
   "file_extension": ".py",
   "mimetype": "text/x-python",
   "name": "python",
   "nbconvert_exporter": "python",
   "pygments_lexer": "ipython3",
   "version": "3.9.5"
  }
 },
 "nbformat": 4,
 "nbformat_minor": 2
}
