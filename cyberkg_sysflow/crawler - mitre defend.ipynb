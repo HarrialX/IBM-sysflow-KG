{
 "cells": [
  {
   "cell_type": "code",
   "execution_count": 26,
   "metadata": {},
   "outputs": [
    {
     "name": "stdout",
     "output_type": "stream",
     "text": [
      "Done\n"
     ]
    }
   ],
   "source": [
    "import os\n",
    "import json\n",
    "import requests\n",
    "from tqdm import tqdm\n",
    "from bs4 import BeautifulSoup\n",
    "from collections import defaultdict\n",
    "from urllib.request import Request, urlopen\n",
    "\n",
    "\n",
    "save_dir = '/home/zxx5113/IBM/data/cyberkg_IBM/save/mitre-defend'\n",
    "os.makedirs(save_dir, exist_ok=True)\n",
    "\n",
    "miti2def = defaultdict(list)\n",
    "'''\n",
    "{\n",
    "    'miti code' : {\n",
    "        'name': str,\n",
    "        'def_list': str,\n",
    "    }\n",
    "}\n",
    "'''\n",
    "\n",
    "\n",
    "mitre_defence = defaultdict(dict)\n",
    "'''\n",
    "{\n",
    "    'def code' : {\n",
    "        'name': str,\n",
    "        'link': str,\n",
    "        'desc': str\n",
    "    }\n",
    "}\n",
    "'''\n",
    "\n",
    "web_prefix = 'https://d3fend.mitre.org/technique/d3f:'\n",
    "\n",
    "with open('save/mitre-defend/map.txt', 'r') as f:\n",
    "    for line in f.readlines()[1:]:\n",
    "        line = line.strip()\n",
    "        miti = line.split()[0]\n",
    "        defs = ['D3'+ele.strip() for ele in line.split('D3')[1:] if ele.startswith('-')]\n",
    "        miti2def[miti] = [ele.split()[0] for ele in defs]\n",
    "        \n",
    "        for ele in defs:\n",
    "            def_code = ele.split()[0]\n",
    "            def_name = ' '.join(ele.split()[1:])\n",
    "            web_postfix = ''.join(ele.split()[1:])\n",
    "            mitre_defence[def_code] = {\n",
    "                'name': def_name,\n",
    "                'link': web_prefix + web_postfix,\n",
    "            }\n",
    "\n",
    "for code, data in mitre_defence.items():\n",
    "    link = data['link']\n",
    "    html = BeautifulSoup(requests.get(link).content, 'html.parser')\n",
    "    for div in html.find_all('div',  attrs={'class':'text-justify'}):\n",
    "        p = div.find('p') # the 1st one\n",
    "        definition = p.text\n",
    "        mitre_defence[code]['desc'] = definition\n",
    "        \n",
    "with open(os.path.join(save_dir, 'miti2def.json'), 'w') as f: \n",
    "    json.dump(miti2def, f)\n",
    "    \n",
    "with open(os.path.join(save_dir, 'defence.json'), 'w') as f: \n",
    "    json.dump(mitre_defence, f)\n",
    "print('Done')\n",
    "        "
   ]
  },
  {
   "cell_type": "code",
   "execution_count": null,
   "metadata": {},
   "outputs": [],
   "source": []
  }
 ],
 "metadata": {
  "kernelspec": {
   "display_name": "py39",
   "language": "python",
   "name": "py39"
  },
  "language_info": {
   "codemirror_mode": {
    "name": "ipython",
    "version": 3
   },
   "file_extension": ".py",
   "mimetype": "text/x-python",
   "name": "python",
   "nbconvert_exporter": "python",
   "pygments_lexer": "ipython3",
   "version": "3.9.5"
  }
 },
 "nbformat": 4,
 "nbformat_minor": 2
}
