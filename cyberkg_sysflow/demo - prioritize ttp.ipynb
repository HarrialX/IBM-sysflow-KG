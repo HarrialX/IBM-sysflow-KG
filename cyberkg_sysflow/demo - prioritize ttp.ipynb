{
 "cells": [
  {
   "cell_type": "code",
   "execution_count": 1,
   "metadata": {},
   "outputs": [],
   "source": [
    "import os, sys\n",
    "sys.path.append(os.path.abspath('../..'))\n",
    "\n",
    "import csv\n",
    "import numpy as np\n",
    "from tqdm import tqdm\n",
    "import sysflow as sf\n",
    "\n",
    "TTPS = ['T1082', 'T1083', 'T1222.002', 'T1105', 'T1552.003', 'T1087.001', 'T1033', 'T1059.004', 'T1106', 'T1574', 'T1087', 'T1020']"
   ]
  },
  {
   "cell_type": "code",
   "execution_count": 7,
   "metadata": {},
   "outputs": [
    {
     "name": "stdout",
     "output_type": "stream",
     "text": [
      "T1082 [200, 269, 20, 209, 522]\n",
      "T1083 [22, 200, 732, 552, 426]\n",
      "T1222.002 [264, 22, 732, 59, 269]\n",
      "T1105 [79, 200, 269, 426, 94]\n",
      "T1552.003 [200, 78, 89, 79, 552]\n",
      "T1087.001 [200, 264, 20, 255, 269]\n",
      "T1033 [200, 532, 798, 78, 287]\n",
      "T1059.004 [78, 20, 94, 77, 269]\n",
      "T1106 [79, 269, 78, 287, 20]\n",
      "T1574 [427, 78, 269, 426, 20]\n",
      "T1087 [79, 200, 264, 269, 732]\n",
      "T1020 [89, 200, 611, 20, 125]\n"
     ]
    }
   ],
   "source": [
    "for ttp in TTPS:\n",
    "    thre_cves, thre_scores = sf.ttp_cve_link(n_cve = 100, tech = ttp, verbose=False)\n",
    "    cwe_sort, score_sort = sf.cwe_cve_link(thre_cves, thre_scores)\n",
    "    print(ttp, [int(cwe.split(':')[-1]) for cwe in cwe_sort[:5]])"
   ]
  },
  {
   "cell_type": "code",
   "execution_count": 6,
   "metadata": {},
   "outputs": [
    {
     "name": "stdout",
     "output_type": "stream",
     "text": [
      "T1083 T1083 1.0\n",
      "T1083 T1105 0.9512\n",
      "T1083 T1552.003 0.9513\n",
      "T1083 T1106 0.9637\n",
      "T1083 T1574 0.95\n",
      "T1083 4.8162\n",
      "T1105 T1083 0.9512\n",
      "T1105 T1105 1.0\n",
      "T1105 T1552.003 0.9491\n",
      "T1105 T1106 0.9601\n",
      "T1105 T1574 0.9596\n",
      "T1105 4.82\n",
      "T1552.003 T1083 0.9513\n",
      "T1552.003 T1105 0.9491\n",
      "T1552.003 T1552.003 1.0\n",
      "T1552.003 T1106 0.9582\n",
      "T1552.003 T1574 0.9547\n",
      "T1552.003 4.813300000000001\n",
      "T1106 T1083 0.9637\n",
      "T1106 T1105 0.9601\n",
      "T1106 T1552.003 0.9582\n",
      "T1106 T1106 1.0\n",
      "T1106 T1574 0.9636\n",
      "T1106 4.8456\n",
      "T1574 T1083 0.95\n",
      "T1574 T1105 0.9596\n",
      "T1574 T1552.003 0.9547\n",
      "T1574 T1106 0.9636\n",
      "T1574 T1574 1.0\n",
      "T1574 4.8279\n"
     ]
    }
   ],
   "source": [
    "import csv\n",
    "\n",
    "TTPS = ['T1082', 'T1083', 'T1222.002', 'T1105', 'T1552.003', 'T1087.001', 'T1033', 'T1059.004', 'T1106', 'T1574', 'T1087', 'T1020']\n",
    "ttp_idx = {ttp: idx for idx, ttp in enumerate(TTPS)}\n",
    "\n",
    "K = 20\n",
    "cve_thre = 0.0\n",
    "file = open(\"./save/ttp-comb-sim-%s-%s.csv\" %  (str(K), str(cve_thre)))\n",
    "csvreader = csv.reader(file)\n",
    "\n",
    "# first row\n",
    "header = next(csvreader) \n",
    "TTPS = header[1:]\n",
    "\n",
    "ttp_mat = []\n",
    "for row in csvreader: # contents starts with 2nd row\n",
    "    ttp_mat.append([float(v) for v in row[1:]])\n",
    "\n",
    "# cluster = ['T1082', 'T1087.001', 'T1033', 'T1087']\n",
    "cluster = ['T1083', 'T1105', 'T1552.003', 'T1106', 'T1574']\n",
    "# cluster = ['T1222.002', 'T1059.004']\n",
    "\n",
    "for ttp1 in cluster:\n",
    "    _sum = 0\n",
    "    for ttp2 in cluster:\n",
    "        s =  ttp_mat[ttp_idx[ttp1]][ttp_idx[ttp2]]\n",
    "        _sum  += s\n",
    "        print(ttp1, ttp2, s)\n",
    "    print(ttp1, _sum)"
   ]
  },
  {
   "cell_type": "code",
   "execution_count": null,
   "metadata": {},
   "outputs": [],
   "source": []
  }
 ],
 "metadata": {
  "kernelspec": {
   "display_name": "py39",
   "language": "python",
   "name": "py39"
  },
  "language_info": {
   "codemirror_mode": {
    "name": "ipython",
    "version": 3
   },
   "file_extension": ".py",
   "mimetype": "text/x-python",
   "name": "python",
   "nbconvert_exporter": "python",
   "pygments_lexer": "ipython3",
   "version": "3.9.5"
  }
 },
 "nbformat": 4,
 "nbformat_minor": 2
}
