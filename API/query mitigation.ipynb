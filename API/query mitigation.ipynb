{
 "cells": [
  {
   "cell_type": "code",
   "execution_count": 1,
   "metadata": {},
   "outputs": [
    {
     "name": "stderr",
     "output_type": "stream",
     "text": [
      "567it [00:24, 23.59it/s]\n",
      "166596it [01:02, 2663.86it/s]\n",
      "100%|████████████████████████████████████████████████████████████████████████████████████████████████████████████████| 124/124 [00:00<00:00, 691613.96it/s]\n",
      "100%|███████████████████████████████████████████████████████████████████████████████████████████████████████████| 166596/166596 [00:11<00:00, 14170.35it/s]\n",
      "100%|████████████████████████████████████████████████████████████████████████████████████████████████████████████████████| 567/567 [00:14<00:00, 38.85it/s]\n"
     ]
    },
    {
     "name": "stdout",
     "output_type": "stream",
     "text": [
      "NOTE: Mitigation for Operation-stage only\n",
      "\n",
      "79 \t Firewall: Use an application firewall that can detect attacks against this weakness.\n",
      "79 \t Environment Hardening: When using PHP, configure the application so that it does not use register_globals.\n",
      "269 284 \t No Strategy: Very carefully manage the setting, management, and handling of privileges.\n",
      "532 \t No Strategy: Protect log files against unauthorized read/write..\n",
      "269 284 \t No Strategy: Very carefully manage the setting, management, and handling of privileges.\n",
      "319 \t No Strategy: Configure servers to use encrypted channels for communication, which may include SSL or other secure protocols..\n",
      "\n",
      "\n",
      "M1026 0.2419 Privileged Account Management\n",
      "M1018 0.1938 User Account Management\n",
      "M1022 0.1544 Restrict File and Directory Permissions\n",
      "M1029 0.1209 Remote Data Storage\n",
      "M1027 0.1093 Password Policies\n",
      "M1013 0.1088 Application Developer Guidance\n",
      "\n",
      "\n",
      "D3-SPP 0.3512 ['M1026', 'M1027'] Strong Password Policy\n",
      "D3-LFP 0.3482 ['M1018', 'M1022'] Local File Permissions\n",
      "D3-DAM 0.2419 ['M1026'] Domain Account Monitoring\n",
      "D3-LAM 0.2419 ['M1026'] Local Account Monitoring\n",
      "D3-MAC 0.1938 ['M1018'] Mandatory Access Control\n",
      "D3-SCP 0.1938 ['M1018'] System Configuration Permissions\n",
      "D3-OTP 0.1093 ['M1027'] One-time Password\n"
     ]
    }
   ],
   "source": [
    "'''Given TTP and specify a group in ['cwe', 'mitre-attack', 'mitre-defend'], return the mitigations\n",
    "'''\n",
    "\n",
    "import os, sys\n",
    "sys.path.append(os.path.abspath('..'))\n",
    "from cyberkg_sysflow.pkg.query_miti import query_mitigation\n",
    "\n",
    "query_mitigation(TTP='T1134', group=['cwe', 'mitre-attack', 'mitre-defend'], source='text-sim')"
   ]
  },
  {
   "cell_type": "code",
   "execution_count": null,
   "metadata": {},
   "outputs": [],
   "source": []
  }
 ],
 "metadata": {
  "kernelspec": {
   "display_name": "py39",
   "language": "python",
   "name": "py39"
  },
  "language_info": {
   "codemirror_mode": {
    "name": "ipython",
    "version": 3
   },
   "file_extension": ".py",
   "mimetype": "text/x-python",
   "name": "python",
   "nbconvert_exporter": "python",
   "pygments_lexer": "ipython3",
   "version": "3.9.5"
  }
 },
 "nbformat": 4,
 "nbformat_minor": 2
}
