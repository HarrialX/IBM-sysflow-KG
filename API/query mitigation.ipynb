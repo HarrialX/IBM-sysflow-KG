{
 "cells": [
  {
   "cell_type": "code",
   "execution_count": 1,
   "metadata": {},
   "outputs": [
    {
     "name": "stderr",
     "output_type": "stream",
     "text": [
      "567it [00:24, 22.79it/s]\n",
      "166596it [01:03, 2637.77it/s]\n",
      "100%|████████████████████████████████████████████████████████████████████████████████████████████████████████| 124/124 [00:00<00:00, 606877.12it/s]\n",
      "100%|███████████████████████████████████████████████████████████████████████████████████████████████████| 166596/166596 [00:14<00:00, 11657.76it/s]\n",
      "100%|████████████████████████████████████████████████████████████████████████████████████████████████████████████| 567/567 [00:17<00:00, 33.34it/s]\n"
     ]
    },
    {
     "name": "stdout",
     "output_type": "stream",
     "text": [
      "CWE mitigation (Operation-stage only):\n",
      "\n",
      "CWE | Mitigation by Strategy\n",
      "79 \t Firewall: Use an application firewall that can detect attacks against this weakness.\n",
      "79 \t Environment Hardening: When using PHP, configure the application so that it does not use register_globals.\n",
      "269 284 \t No Strategy: Very carefully manage the setting, management, and handling of privileges.\n",
      "532 \t No Strategy: Protect log files against unauthorized read/write..\n",
      "319 \t No Strategy: Configure servers to use encrypted channels for communication, which may include SSL or other secure protocols..\n",
      "----------------------------------------------------------------------------------------------------\n",
      "\n",
      "MITRE-ATT&CK Mitigation (ground-truth, by official web reports)\n",
      "\n",
      "Miti | Name\n",
      "M1026 Privileged Account Management\n",
      "M1018 User Account Management\n",
      "----------------------------------------------------------------------------------------------------\n",
      "\n",
      "MITRE-ATT&CK Mitigation (by document similarity between CWE Mitigation & ATT&CK Mitigation)\n",
      "\n",
      "Miti | CosSim | Name\n",
      "M1026 0.1884 Privileged Account Management\n",
      "M1029 0.1539 Remote Data Storage\n",
      "M1018 0.1472 User Account Management\n",
      "M1013 0.1385 Application Developer Guidance\n",
      "M1015 0.1213 Active Directory Configuration\n",
      "M1022 0.1152 Restrict File and Directory Permissions\n",
      "M1041 0.112 Encrypt Sensitive Information\n",
      "M1039 0.1068 Environment Variable Permissions\n",
      "M1050 0.1037 Exploit Protection\n",
      "M1025 0.1005 Privileged Process Integrity\n",
      "----------------------------------------------------------------------------------------------------\n",
      "\n",
      "MITRE-D3FEND Mitigation (ground-truth, by official web reports related to Att&ck Mitigation)\n",
      "\n",
      "Def | Source Att&ck Miti | Def Name\n",
      "----------------------------------------------------------------------------------------------------\n",
      "\n",
      "MITRE-D3FEND Mitigation (by document similarity between CWE Mitigation & D3FEND Mitigation)\n",
      "\n",
      "Def | Score | Source Att&ck Miti | Def Name\n",
      "D3-LFP 0.2624 ['M1018', 'M1022'] Local File Permissions\n",
      "D3-MAC 0.2477 ['M1018', 'M1025'] Mandatory Access Control\n",
      "D3-DAM 0.1884 ['M1026'] Domain Account Monitoring\n",
      "D3-LAM 0.1884 ['M1026'] Local Account Monitoring\n",
      "D3-SPP 0.1884 ['M1026'] Strong Password Policy\n",
      "D3-SCP 0.1472 ['M1018'] System Configuration Permissions\n",
      "D3-ANCI 0.1213 ['M1015'] Authentication Cache Invalidation\n",
      "D3-DTP 0.1213 ['M1015'] Domain Trust Policy\n",
      "D3-UAP 0.1213 ['M1015'] User Account Permissions\n",
      "D3-DENCR 0.112 ['M1041'] Disk Encryption\n",
      "D3-ET 0.112 ['M1041'] Encrypted Tunnels\n",
      "D3-FE 0.112 ['M1041'] File Encryption\n",
      "D3-MENCR 0.112 ['M1041'] Message Encryption\n",
      "D3-ACH 0.1068 ['M1039'] Application Configuration Hardening\n",
      "D3-SFA 0.1068 ['M1039'] System File Analysis\n",
      "D3-ITF 0.1037 ['M1050'] Inbound Traffic Filtering\n",
      "D3-SSC 0.1037 ['M1050'] Shadow Stack Comparisons\n",
      "D3-AH 0.1037 ['M1050'] Application Hardening\n",
      "D3-EHPV 0.1037 ['M1050'] Exception Handler Pointer Validation\n",
      "D3-BA 0.1005 ['M1025'] Bootloader Authentication\n",
      "D3-DLIC 0.1005 ['M1025'] Driver Load Integrity Checking\n",
      "D3-PSEP 0.1005 ['M1025'] Process Segment Execution Prevention\n"
     ]
    }
   ],
   "source": [
    "'''Given TTP and specify group(s) in ['cwe', 'mitre-attack', 'mitre-defend'] \n",
    "   and source(s) in ['kg', 'web'], return corresponding mitigations\n",
    "'''\n",
    "\n",
    "import os, sys\n",
    "sys.path.append(os.path.abspath('..'))\n",
    "\n",
    "from pkg.query_miti import query_mitigation\n",
    "\n",
    "# query all types of mitigations w.r.t. all sources\n",
    "query_mitigation(TTP='T1134', group=['cwe', 'mitre-attack', 'mitre-defend'], source=['kg', 'web'])"
   ]
  },
  {
   "cell_type": "code",
   "execution_count": 2,
   "metadata": {},
   "outputs": [
    {
     "name": "stdout",
     "output_type": "stream",
     "text": [
      "CWE mitigation (Operation-stage only):\n",
      "\n",
      "CWE | Mitigation by Strategy\n",
      "79 \t Firewall: Use an application firewall that can detect attacks against this weakness.\n",
      "79 \t Environment Hardening: When using PHP, configure the application so that it does not use register_globals.\n",
      "269 284 \t No Strategy: Very carefully manage the setting, management, and handling of privileges.\n",
      "532 \t No Strategy: Protect log files against unauthorized read/write..\n",
      "319 \t No Strategy: Configure servers to use encrypted channels for communication, which may include SSL or other secure protocols..\n"
     ]
    }
   ],
   "source": [
    "# only query CWE mitigation w.r.t. all sources\n",
    "query_mitigation(TTP='T1134', group=['cwe'], source=['kg', 'web'])"
   ]
  },
  {
   "cell_type": "code",
   "execution_count": 3,
   "metadata": {},
   "outputs": [
    {
     "name": "stdout",
     "output_type": "stream",
     "text": [
      "----------------------------------------------------------------------------------------------------\n",
      "\n",
      "MITRE-ATT&CK Mitigation (ground-truth, by official web reports)\n",
      "\n",
      "Miti | Name\n",
      "M1026 Privileged Account Management\n",
      "M1018 User Account Management\n",
      "----------------------------------------------------------------------------------------------------\n",
      "\n",
      "MITRE-ATT&CK Mitigation (by document similarity between CWE Mitigation & ATT&CK Mitigation)\n",
      "\n",
      "Miti | CosSim | Name\n",
      "M1026 0.1884 Privileged Account Management\n",
      "M1029 0.1539 Remote Data Storage\n",
      "M1018 0.1472 User Account Management\n",
      "M1013 0.1385 Application Developer Guidance\n",
      "M1015 0.1213 Active Directory Configuration\n",
      "M1022 0.1152 Restrict File and Directory Permissions\n",
      "M1041 0.112 Encrypt Sensitive Information\n",
      "M1039 0.1068 Environment Variable Permissions\n",
      "M1050 0.1037 Exploit Protection\n",
      "M1025 0.1005 Privileged Process Integrity\n"
     ]
    }
   ],
   "source": [
    "# only query MITRE mitigation w.r.t. all sources\n",
    "query_mitigation(TTP='T1134', group=['mitre-attack'], source=['kg', 'web'])"
   ]
  },
  {
   "cell_type": "code",
   "execution_count": 4,
   "metadata": {},
   "outputs": [
    {
     "name": "stdout",
     "output_type": "stream",
     "text": [
      "----------------------------------------------------------------------------------------------------\n",
      "\n",
      "MITRE-D3FEND Mitigation (ground-truth, by official web reports related to Att&ck Mitigation)\n",
      "\n",
      "Def | Source Att&ck Miti | Def Name\n",
      "----------------------------------------------------------------------------------------------------\n",
      "\n",
      "MITRE-D3FEND Mitigation (by document similarity between CWE Mitigation & D3FEND Mitigation)\n",
      "\n",
      "Def | Score | Source Att&ck Miti | Def Name\n",
      "D3-LFP 0.2624 ['M1018', 'M1022'] Local File Permissions\n",
      "D3-MAC 0.2477 ['M1018', 'M1025'] Mandatory Access Control\n",
      "D3-DAM 0.1884 ['M1026'] Domain Account Monitoring\n",
      "D3-LAM 0.1884 ['M1026'] Local Account Monitoring\n",
      "D3-SPP 0.1884 ['M1026'] Strong Password Policy\n",
      "D3-SCP 0.1472 ['M1018'] System Configuration Permissions\n",
      "D3-ANCI 0.1213 ['M1015'] Authentication Cache Invalidation\n",
      "D3-DTP 0.1213 ['M1015'] Domain Trust Policy\n",
      "D3-UAP 0.1213 ['M1015'] User Account Permissions\n",
      "D3-DENCR 0.112 ['M1041'] Disk Encryption\n",
      "D3-ET 0.112 ['M1041'] Encrypted Tunnels\n",
      "D3-FE 0.112 ['M1041'] File Encryption\n",
      "D3-MENCR 0.112 ['M1041'] Message Encryption\n",
      "D3-ACH 0.1068 ['M1039'] Application Configuration Hardening\n",
      "D3-SFA 0.1068 ['M1039'] System File Analysis\n",
      "D3-ITF 0.1037 ['M1050'] Inbound Traffic Filtering\n",
      "D3-SSC 0.1037 ['M1050'] Shadow Stack Comparisons\n",
      "D3-AH 0.1037 ['M1050'] Application Hardening\n",
      "D3-EHPV 0.1037 ['M1050'] Exception Handler Pointer Validation\n",
      "D3-BA 0.1005 ['M1025'] Bootloader Authentication\n",
      "D3-DLIC 0.1005 ['M1025'] Driver Load Integrity Checking\n",
      "D3-PSEP 0.1005 ['M1025'] Process Segment Execution Prevention\n"
     ]
    }
   ],
   "source": [
    "# only query DEFEND mitigation w.r.t. all sources\n",
    "query_mitigation(TTP='T1134', group=['mitre-defend'], source=['kg', 'web'])"
   ]
  },
  {
   "cell_type": "code",
   "execution_count": 5,
   "metadata": {},
   "outputs": [
    {
     "name": "stdout",
     "output_type": "stream",
     "text": [
      "----------------------------------------------------------------------------------------------------\n",
      "\n",
      "MITRE-ATT&CK Mitigation (ground-truth, by official web reports)\n",
      "\n",
      "Miti | Name\n",
      "M1026 Privileged Account Management\n",
      "M1018 User Account Management\n",
      "----------------------------------------------------------------------------------------------------\n",
      "\n",
      "MITRE-D3FEND Mitigation (ground-truth, by official web reports related to Att&ck Mitigation)\n",
      "\n",
      "Def | Source Att&ck Miti | Def Name\n"
     ]
    }
   ],
   "source": [
    "# query MITRE ATTACK and DEFEND mitigations only from web reports\n",
    "query_mitigation(TTP='T1134', group=['mitre-attack', 'mitre-defend'], source=['web'])"
   ]
  },
  {
   "cell_type": "code",
   "execution_count": 6,
   "metadata": {},
   "outputs": [
    {
     "name": "stdout",
     "output_type": "stream",
     "text": [
      "CWE mitigation (Operation-stage only):\n",
      "\n",
      "CWE | Mitigation by Strategy\n",
      "79 \t Firewall: Use an application firewall that can detect attacks against this weakness.\n",
      "79 \t Environment Hardening: When using PHP, configure the application so that it does not use register_globals.\n",
      "269 284 \t No Strategy: Very carefully manage the setting, management, and handling of privileges.\n",
      "532 \t No Strategy: Protect log files against unauthorized read/write..\n",
      "319 \t No Strategy: Configure servers to use encrypted channels for communication, which may include SSL or other secure protocols..\n",
      "----------------------------------------------------------------------------------------------------\n",
      "\n",
      "MITRE-ATT&CK Mitigation (by document similarity between CWE Mitigation & ATT&CK Mitigation)\n",
      "\n",
      "Miti | CosSim | Name\n",
      "M1026 0.1884 Privileged Account Management\n",
      "M1029 0.1539 Remote Data Storage\n",
      "M1018 0.1472 User Account Management\n",
      "M1013 0.1385 Application Developer Guidance\n",
      "M1015 0.1213 Active Directory Configuration\n",
      "M1022 0.1152 Restrict File and Directory Permissions\n",
      "M1041 0.112 Encrypt Sensitive Information\n",
      "M1039 0.1068 Environment Variable Permissions\n",
      "M1050 0.1037 Exploit Protection\n",
      "M1025 0.1005 Privileged Process Integrity\n",
      "----------------------------------------------------------------------------------------------------\n",
      "\n",
      "MITRE-D3FEND Mitigation (by document similarity between CWE Mitigation & D3FEND Mitigation)\n",
      "\n",
      "Def | Score | Source Att&ck Miti | Def Name\n",
      "D3-LFP 0.2624 ['M1018', 'M1022'] Local File Permissions\n",
      "D3-MAC 0.2477 ['M1018', 'M1025'] Mandatory Access Control\n",
      "D3-DAM 0.1884 ['M1026'] Domain Account Monitoring\n",
      "D3-LAM 0.1884 ['M1026'] Local Account Monitoring\n",
      "D3-SPP 0.1884 ['M1026'] Strong Password Policy\n",
      "D3-SCP 0.1472 ['M1018'] System Configuration Permissions\n",
      "D3-ANCI 0.1213 ['M1015'] Authentication Cache Invalidation\n",
      "D3-DTP 0.1213 ['M1015'] Domain Trust Policy\n",
      "D3-UAP 0.1213 ['M1015'] User Account Permissions\n",
      "D3-DENCR 0.112 ['M1041'] Disk Encryption\n",
      "D3-ET 0.112 ['M1041'] Encrypted Tunnels\n",
      "D3-FE 0.112 ['M1041'] File Encryption\n",
      "D3-MENCR 0.112 ['M1041'] Message Encryption\n",
      "D3-ACH 0.1068 ['M1039'] Application Configuration Hardening\n",
      "D3-SFA 0.1068 ['M1039'] System File Analysis\n",
      "D3-ITF 0.1037 ['M1050'] Inbound Traffic Filtering\n",
      "D3-SSC 0.1037 ['M1050'] Shadow Stack Comparisons\n",
      "D3-AH 0.1037 ['M1050'] Application Hardening\n",
      "D3-EHPV 0.1037 ['M1050'] Exception Handler Pointer Validation\n",
      "D3-BA 0.1005 ['M1025'] Bootloader Authentication\n",
      "D3-DLIC 0.1005 ['M1025'] Driver Load Integrity Checking\n",
      "D3-PSEP 0.1005 ['M1025'] Process Segment Execution Prevention\n"
     ]
    }
   ],
   "source": [
    "# query all types of mitigations only via KG\n",
    "query_mitigation(TTP='T1134', group=['cwe', 'mitre-attack', 'mitre-defend'], source=['kg'])"
   ]
  },
  {
   "cell_type": "code",
   "execution_count": null,
   "metadata": {},
   "outputs": [],
   "source": []
  }
 ],
 "metadata": {
  "kernelspec": {
   "display_name": "py39",
   "language": "python",
   "name": "py39"
  },
  "language_info": {
   "codemirror_mode": {
    "name": "ipython",
    "version": 3
   },
   "file_extension": ".py",
   "mimetype": "text/x-python",
   "name": "python",
   "nbconvert_exporter": "python",
   "pygments_lexer": "ipython3",
   "version": "3.9.5"
  }
 },
 "nbformat": 4,
 "nbformat_minor": 2
}
